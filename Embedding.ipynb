{
  "cells": [
    {
      "cell_type": "code",
      "execution_count": null,
      "metadata": {
        "id": "SEl2RpzbelSz"
      },
      "outputs": [],
      "source": [
        "!pip install langchain transformers\n",
        "!pip install langchain_community\n",
        "!pip install langchain_core\n",
        "!pip install langchain_together\n",
        "!pip install streamlit\n",
        "!pip install langchain-huggingface\n",
        "!pip install pypdf\n",
        "!pip install langchain-pinecone"
      ]
    },
    {
      "cell_type": "code",
      "execution_count": null,
      "metadata": {
        "id": "Cm5q-VXbfObO"
      },
      "outputs": [],
      "source": [
        "from langchain_community.document_loaders import PyPDFLoader\n",
        "from langchain_huggingface import HuggingFaceEmbeddings\n",
        "from langchain.text_splitter import RecursiveCharacterTextSplitter\n",
        "from langchain_pinecone import PineconeVectorStore\n",
        "from pinecone import Pinecone, ServerlessSpec\n",
        "from google.colab import userdata\n",
        "from uuid import uuid4\n",
        "\n",
        "pinecone_api_key=userdata.get('pinecone_api_key')\n",
        "loader = PyPDFLoader(\"Indian Penal Code Book.pdf\")\n",
        "documents = loader.load()\n",
        "\n",
        "\n",
        "text_splitter = RecursiveCharacterTextSplitter(chunk_size=500, chunk_overlap=100)\n",
        "texts = text_splitter.split_documents(documents)\n",
        "\n",
        "embeddings = HuggingFaceEmbeddings(model_name=\"nomic-ai/nomic-embed-text-v1\",model_kwargs={\"trust_remote_code\":True,\"revision\":\"cc62377b015c53a3bf52bb2f4eb8c55326d3f162\"})\n",
        "\n",
        "pc = Pinecone(api_key=pinecone_api_key)\n",
        "index_name=\"legalaivectors\"\n",
        "index = pc.Index(index_name)\n",
        "vector_store = PineconeVectorStore(index=index, embedding=embeddings)\n",
        "uuids = [str(uuid4()) for _ in range(len(texts))]\n",
        "vector_store.add_documents(documents=texts, ids=uuids)\n"
      ]
    }
  ],
  "metadata": {
    "accelerator": "GPU",
    "colab": {
      "gpuType": "T4",
      "provenance": []
    },
    "kernelspec": {
      "display_name": "Python 3",
      "name": "python3"
    },
    "language_info": {
      "name": "python"
    }
  },
  "nbformat": 4,
  "nbformat_minor": 0
}
